{
 "cells": [
  {
   "cell_type": "code",
   "execution_count": 2,
   "metadata": {
    "colab": {},
    "colab_type": "code",
    "id": "xxO9tyeJW4uh"
   },
   "outputs": [],
   "source": [
    "from sklearn import datasets"
   ]
  },
  {
   "cell_type": "code",
   "execution_count": 3,
   "metadata": {
    "colab": {},
    "colab_type": "code",
    "id": "mjcU_PeeW8eU"
   },
   "outputs": [],
   "source": [
    "X, y =  datasets.make_blobs(n_samples=50, n_features=2, centers=2, cluster_std=1.05, random_state=40)"
   ]
  },
  {
   "cell_type": "code",
   "execution_count": 4,
   "metadata": {
    "colab": {
     "base_uri": "https://localhost:8080/",
     "height": 72
    },
    "colab_type": "code",
    "id": "YFUgOrbIW-eF",
    "outputId": "c871f239-5b7c-4170-86b9-2c63aed8a01b"
   },
   "outputs": [],
   "source": [
    "import numpy as np\n",
    "import matplotlib.pyplot as plt\n",
    "import seaborn as sns\n",
    "import pandas as pd"
   ]
  },
  {
   "cell_type": "code",
   "execution_count": 5,
   "metadata": {
    "colab": {},
    "colab_type": "code",
    "id": "WyUdIxRDX-pH"
   },
   "outputs": [],
   "source": [
    "x=np.linspace(-10,10,100)"
   ]
  },
  {
   "cell_type": "code",
   "execution_count": 6,
   "metadata": {
    "colab": {},
    "colab_type": "code",
    "id": "J9MZCZj-YDgH"
   },
   "outputs": [],
   "source": [
    "y1=-5*x+1"
   ]
  },
  {
   "cell_type": "code",
   "execution_count": 7,
   "metadata": {
    "colab": {},
    "colab_type": "code",
    "id": "nGM1xxeMYy9n"
   },
   "outputs": [],
   "source": [
    "y2=-4*x+1"
   ]
  },
  {
   "cell_type": "code",
   "execution_count": 8,
   "metadata": {
    "colab": {
     "base_uri": "https://localhost:8080/",
     "height": 283
    },
    "colab_type": "code",
    "id": "nZogsr9CXCra",
    "outputId": "aaf6ccaf-42e5-4aac-8241-3403e25cdd8b"
   },
   "outputs": [
    {
     "data": {
      "text/plain": [
       "<matplotlib.axes._subplots.AxesSubplot at 0x21b3608b7c8>"
      ]
     },
     "execution_count": 8,
     "metadata": {},
     "output_type": "execute_result"
    },
    {
     "data": {
      "image/png": "[encoded data removed]",
      "text/plain": [
       "<Figure size 432x288 with 1 Axes>"
      ]
     },
     "metadata": {
      "needs_background": "light"
     },
     "output_type": "display_data"
    }
   ],
   "source": [
    "plt.plot(x,y1)\n",
    "plt.plot(x,y2)\n",
    "sns.scatterplot(X.T[0],X.T[1],hue=y)"
   ]
  },
  {
   "cell_type": "markdown",
   "metadata": {
    "colab_type": "text",
    "id": "U2pT8YqeZGPf"
   },
   "source": [
    "Equation of the orange line:\n",
    "\n",
    "y=-4x+1\n",
    "\n",
    "Equation of the blue line:\n",
    "\n",
    "y=-5x+1\n",
    "\n",
    "You have to find out which line will act as a better classifier according to the SVM alsorithm and why?"
   ]
  },
  {
   "cell_type": "code",
   "execution_count": 9,
   "metadata": {
    "colab": {},
    "colab_type": "code",
    "id": "u3KywixYZcYl"
   },
   "outputs": [
    {
     "data": {
      "text/plain": [
       "array([[  7.12731332,  -4.4394424 ],\n",
       "       [  6.68873898,  -2.44840134],\n",
       "       [ -1.1004791 ,  -7.78436803],\n",
       "       [  3.99337867,  -4.90451269],\n",
       "       [ -1.8171622 ,  -9.22909875],\n",
       "       [ -2.05521901, -10.23141199],\n",
       "       [  4.20397723,  -3.61164749],\n",
       "       [ -0.21804625,  -9.21962706],\n",
       "       [  5.19327641,  -6.38845134],\n",
       "       [ -1.83682056,  -8.21952131],\n",
       "       [  7.54287406,  -5.35284052],\n",
       "       [  4.88954545,  -3.38947816],\n",
       "       [ -1.76558632,  -9.34943001],\n",
       "       [  5.22597752,  -5.5503347 ],\n",
       "       [  6.64886376,  -4.46203664],\n",
       "       [  8.09408178,  -4.8068287 ],\n",
       "       [  6.32916529,  -5.32177094],\n",
       "       [  5.80670214,  -5.14475233],\n",
       "       [  5.67381136,  -3.33963413],\n",
       "       [  7.20870152,  -6.04176429],\n",
       "       [ -3.25014567,  -8.67304842],\n",
       "       [ -1.22856371,  -7.96317275],\n",
       "       [ -3.29446134,  -7.45269997],\n",
       "       [ -1.81294631,  -7.55640734],\n",
       "       [ -1.53809058,  -8.77828137],\n",
       "       [ -3.78288052,  -9.38303174],\n",
       "       [ -2.73473836,  -9.34777956],\n",
       "       [  0.56085542,  -8.37942864],\n",
       "       [ -0.74123127,  -7.87270877],\n",
       "       [ -1.78948268,  -8.62182811],\n",
       "       [  6.50753753,  -3.62561777],\n",
       "       [  4.60302933,  -4.27563422],\n",
       "       [ -1.26561532,  -8.61262708],\n",
       "       [ -0.72123914,  -8.45607028],\n",
       "       [  3.83024448,  -4.07271978],\n",
       "       [ -3.34179681,  -9.47382989],\n",
       "       [  6.05297048,  -6.08234237],\n",
       "       [ -2.91411681,  -9.03305688],\n",
       "       [  3.86649969,  -4.04019832],\n",
       "       [  6.44492377,  -4.43550613],\n",
       "       [ -1.81467949, -10.05599013],\n",
       "       [ -1.76772086,  -9.42358002],\n",
       "       [  2.74565323,  -4.27040575],\n",
       "       [  5.23730283,  -4.11095128],\n",
       "       [  6.34072331,  -4.34259999],\n",
       "       [ -2.30635421,  -8.37456353],\n",
       "       [ -3.09442079,  -9.2409609 ],\n",
       "       [  6.59620916,  -4.32893984],\n",
       "       [  7.24901124,  -3.58913263],\n",
       "       [ -2.03285195,  -8.16158771]])"
      ]
     },
     "execution_count": 9,
     "metadata": {},
     "output_type": "execute_result"
    }
   ],
   "source": [
    "X"
   ]
  },
  {
   "cell_type": "code",
   "execution_count": 10,
   "metadata": {},
   "outputs": [
    {
     "data": {
      "text/plain": [
       "array([1, 1, 0, 1, 0, 0, 1, 0, 1, 0, 1, 1, 0, 1, 1, 1, 1, 1, 1, 1, 0, 0,\n",
       "       0, 0, 0, 0, 0, 0, 0, 0, 1, 1, 0, 0, 1, 0, 1, 0, 1, 1, 0, 0, 1, 1,\n",
       "       1, 0, 0, 1, 1, 0])"
      ]
     },
     "execution_count": 10,
     "metadata": {},
     "output_type": "execute_result"
    }
   ],
   "source": [
    "y"
   ]
  },
  {
   "cell_type": "code",
   "execution_count": 11,
   "metadata": {},
   "outputs": [],
   "source": [
    "y1=[-1 if x==0 else x for x in y]"
   ]
  },
  {
   "cell_type": "code",
   "execution_count": 12,
   "metadata": {},
   "outputs": [
    {
     "data": {
      "text/plain": [
       "-1"
      ]
     },
     "execution_count": 12,
     "metadata": {},
     "output_type": "execute_result"
    }
   ],
   "source": [
    "y1[49]"
   ]
  },
  {
   "cell_type": "code",
   "execution_count": 13,
   "metadata": {},
   "outputs": [
    {
     "data": {
      "text/plain": [
       "(50, 2)"
      ]
     },
     "execution_count": 13,
     "metadata": {},
     "output_type": "execute_result"
    }
   ],
   "source": [
    "X.shape"
   ]
  },
  {
   "cell_type": "code",
   "execution_count": 14,
   "metadata": {},
   "outputs": [
    {
     "data": {
      "text/plain": [
       "(50,)"
      ]
     },
     "execution_count": 14,
     "metadata": {},
     "output_type": "execute_result"
    }
   ],
   "source": [
    "y.shape"
   ]
  },
  {
   "cell_type": "code",
   "execution_count": 15,
   "metadata": {},
   "outputs": [],
   "source": [
    "x_points=[]\n",
    "y_points=[]\n",
    "for i in range(50):\n",
    "    x_points.append(X[i][0])\n",
    "    y_points.append(X[i][1])"
   ]
  },
  {
   "cell_type": "code",
   "execution_count": 16,
   "metadata": {},
   "outputs": [],
   "source": [
    "d={\"pointx\":x_points,'pointy':y_points,\"labels\":y1}\n",
    "df=pd.DataFrame(d)"
   ]
  },
  {
   "cell_type": "code",
   "execution_count": 17,
   "metadata": {},
   "outputs": [
    {
     "data": {
      "text/html": [
       "<div>\n",
       "<style scoped>\n",
       "    .dataframe tbody tr th:only-of-type {\n",
       "        vertical-align: middle;\n",
       "    }\n",
       "\n",
       "    .dataframe tbody tr th {\n",
       "        vertical-align: top;\n",
       "    }\n",
       "\n",
       "    .dataframe thead th {\n",
       "        text-align: right;\n",
       "    }\n",
       "</style>\n",
       "<table border=\"1\" class=\"dataframe\">\n",
       "  <thead>\n",
       "    <tr style=\"text-align: right;\">\n",
       "      <th></th>\n",
       "      <th>pointx</th>\n",
       "      <th>pointy</th>\n",
       "      <th>labels</th>\n",
       "    </tr>\n",
       "  </thead>\n",
       "  <tbody>\n",
       "    <tr>\n",
       "      <td>0</td>\n",
       "      <td>7.127313</td>\n",
       "      <td>-4.439442</td>\n",
       "      <td>1</td>\n",
       "    </tr>\n",
       "    <tr>\n",
       "      <td>1</td>\n",
       "      <td>6.688739</td>\n",
       "      <td>-2.448401</td>\n",
       "      <td>1</td>\n",
       "    </tr>\n",
       "    <tr>\n",
       "      <td>2</td>\n",
       "      <td>-1.100479</td>\n",
       "      <td>-7.784368</td>\n",
       "      <td>-1</td>\n",
       "    </tr>\n",
       "    <tr>\n",
       "      <td>3</td>\n",
       "      <td>3.993379</td>\n",
       "      <td>-4.904513</td>\n",
       "      <td>1</td>\n",
       "    </tr>\n",
       "    <tr>\n",
       "      <td>4</td>\n",
       "      <td>-1.817162</td>\n",
       "      <td>-9.229099</td>\n",
       "      <td>-1</td>\n",
       "    </tr>\n",
       "    <tr>\n",
       "      <td>5</td>\n",
       "      <td>-2.055219</td>\n",
       "      <td>-10.231412</td>\n",
       "      <td>-1</td>\n",
       "    </tr>\n",
       "    <tr>\n",
       "      <td>6</td>\n",
       "      <td>4.203977</td>\n",
       "      <td>-3.611647</td>\n",
       "      <td>1</td>\n",
       "    </tr>\n",
       "    <tr>\n",
       "      <td>7</td>\n",
       "      <td>-0.218046</td>\n",
       "      <td>-9.219627</td>\n",
       "      <td>-1</td>\n",
       "    </tr>\n",
       "    <tr>\n",
       "      <td>8</td>\n",
       "      <td>5.193276</td>\n",
       "      <td>-6.388451</td>\n",
       "      <td>1</td>\n",
       "    </tr>\n",
       "    <tr>\n",
       "      <td>9</td>\n",
       "      <td>-1.836821</td>\n",
       "      <td>-8.219521</td>\n",
       "      <td>-1</td>\n",
       "    </tr>\n",
       "    <tr>\n",
       "      <td>10</td>\n",
       "      <td>7.542874</td>\n",
       "      <td>-5.352841</td>\n",
       "      <td>1</td>\n",
       "    </tr>\n",
       "    <tr>\n",
       "      <td>11</td>\n",
       "      <td>4.889545</td>\n",
       "      <td>-3.389478</td>\n",
       "      <td>1</td>\n",
       "    </tr>\n",
       "    <tr>\n",
       "      <td>12</td>\n",
       "      <td>-1.765586</td>\n",
       "      <td>-9.349430</td>\n",
       "      <td>-1</td>\n",
       "    </tr>\n",
       "    <tr>\n",
       "      <td>13</td>\n",
       "      <td>5.225978</td>\n",
       "      <td>-5.550335</td>\n",
       "      <td>1</td>\n",
       "    </tr>\n",
       "    <tr>\n",
       "      <td>14</td>\n",
       "      <td>6.648864</td>\n",
       "      <td>-4.462037</td>\n",
       "      <td>1</td>\n",
       "    </tr>\n",
       "    <tr>\n",
       "      <td>15</td>\n",
       "      <td>8.094082</td>\n",
       "      <td>-4.806829</td>\n",
       "      <td>1</td>\n",
       "    </tr>\n",
       "    <tr>\n",
       "      <td>16</td>\n",
       "      <td>6.329165</td>\n",
       "      <td>-5.321771</td>\n",
       "      <td>1</td>\n",
       "    </tr>\n",
       "    <tr>\n",
       "      <td>17</td>\n",
       "      <td>5.806702</td>\n",
       "      <td>-5.144752</td>\n",
       "      <td>1</td>\n",
       "    </tr>\n",
       "    <tr>\n",
       "      <td>18</td>\n",
       "      <td>5.673811</td>\n",
       "      <td>-3.339634</td>\n",
       "      <td>1</td>\n",
       "    </tr>\n",
       "    <tr>\n",
       "      <td>19</td>\n",
       "      <td>7.208702</td>\n",
       "      <td>-6.041764</td>\n",
       "      <td>1</td>\n",
       "    </tr>\n",
       "    <tr>\n",
       "      <td>20</td>\n",
       "      <td>-3.250146</td>\n",
       "      <td>-8.673048</td>\n",
       "      <td>-1</td>\n",
       "    </tr>\n",
       "    <tr>\n",
       "      <td>21</td>\n",
       "      <td>-1.228564</td>\n",
       "      <td>-7.963173</td>\n",
       "      <td>-1</td>\n",
       "    </tr>\n",
       "    <tr>\n",
       "      <td>22</td>\n",
       "      <td>-3.294461</td>\n",
       "      <td>-7.452700</td>\n",
       "      <td>-1</td>\n",
       "    </tr>\n",
       "    <tr>\n",
       "      <td>23</td>\n",
       "      <td>-1.812946</td>\n",
       "      <td>-7.556407</td>\n",
       "      <td>-1</td>\n",
       "    </tr>\n",
       "    <tr>\n",
       "      <td>24</td>\n",
       "      <td>-1.538091</td>\n",
       "      <td>-8.778281</td>\n",
       "      <td>-1</td>\n",
       "    </tr>\n",
       "    <tr>\n",
       "      <td>25</td>\n",
       "      <td>-3.782881</td>\n",
       "      <td>-9.383032</td>\n",
       "      <td>-1</td>\n",
       "    </tr>\n",
       "    <tr>\n",
       "      <td>26</td>\n",
       "      <td>-2.734738</td>\n",
       "      <td>-9.347780</td>\n",
       "      <td>-1</td>\n",
       "    </tr>\n",
       "    <tr>\n",
       "      <td>27</td>\n",
       "      <td>0.560855</td>\n",
       "      <td>-8.379429</td>\n",
       "      <td>-1</td>\n",
       "    </tr>\n",
       "    <tr>\n",
       "      <td>28</td>\n",
       "      <td>-0.741231</td>\n",
       "      <td>-7.872709</td>\n",
       "      <td>-1</td>\n",
       "    </tr>\n",
       "    <tr>\n",
       "      <td>29</td>\n",
       "      <td>-1.789483</td>\n",
       "      <td>-8.621828</td>\n",
       "      <td>-1</td>\n",
       "    </tr>\n",
       "    <tr>\n",
       "      <td>30</td>\n",
       "      <td>6.507538</td>\n",
       "      <td>-3.625618</td>\n",
       "      <td>1</td>\n",
       "    </tr>\n",
       "    <tr>\n",
       "      <td>31</td>\n",
       "      <td>4.603029</td>\n",
       "      <td>-4.275634</td>\n",
       "      <td>1</td>\n",
       "    </tr>\n",
       "    <tr>\n",
       "      <td>32</td>\n",
       "      <td>-1.265615</td>\n",
       "      <td>-8.612627</td>\n",
       "      <td>-1</td>\n",
       "    </tr>\n",
       "    <tr>\n",
       "      <td>33</td>\n",
       "      <td>-0.721239</td>\n",
       "      <td>-8.456070</td>\n",
       "      <td>-1</td>\n",
       "    </tr>\n",
       "    <tr>\n",
       "      <td>34</td>\n",
       "      <td>3.830244</td>\n",
       "      <td>-4.072720</td>\n",
       "      <td>1</td>\n",
       "    </tr>\n",
       "    <tr>\n",
       "      <td>35</td>\n",
       "      <td>-3.341797</td>\n",
       "      <td>-9.473830</td>\n",
       "      <td>-1</td>\n",
       "    </tr>\n",
       "    <tr>\n",
       "      <td>36</td>\n",
       "      <td>6.052970</td>\n",
       "      <td>-6.082342</td>\n",
       "      <td>1</td>\n",
       "    </tr>\n",
       "    <tr>\n",
       "      <td>37</td>\n",
       "      <td>-2.914117</td>\n",
       "      <td>-9.033057</td>\n",
       "      <td>-1</td>\n",
       "    </tr>\n",
       "    <tr>\n",
       "      <td>38</td>\n",
       "      <td>3.866500</td>\n",
       "      <td>-4.040198</td>\n",
       "      <td>1</td>\n",
       "    </tr>\n",
       "    <tr>\n",
       "      <td>39</td>\n",
       "      <td>6.444924</td>\n",
       "      <td>-4.435506</td>\n",
       "      <td>1</td>\n",
       "    </tr>\n",
       "    <tr>\n",
       "      <td>40</td>\n",
       "      <td>-1.814679</td>\n",
       "      <td>-10.055990</td>\n",
       "      <td>-1</td>\n",
       "    </tr>\n",
       "    <tr>\n",
       "      <td>41</td>\n",
       "      <td>-1.767721</td>\n",
       "      <td>-9.423580</td>\n",
       "      <td>-1</td>\n",
       "    </tr>\n",
       "    <tr>\n",
       "      <td>42</td>\n",
       "      <td>2.745653</td>\n",
       "      <td>-4.270406</td>\n",
       "      <td>1</td>\n",
       "    </tr>\n",
       "    <tr>\n",
       "      <td>43</td>\n",
       "      <td>5.237303</td>\n",
       "      <td>-4.110951</td>\n",
       "      <td>1</td>\n",
       "    </tr>\n",
       "    <tr>\n",
       "      <td>44</td>\n",
       "      <td>6.340723</td>\n",
       "      <td>-4.342600</td>\n",
       "      <td>1</td>\n",
       "    </tr>\n",
       "    <tr>\n",
       "      <td>45</td>\n",
       "      <td>-2.306354</td>\n",
       "      <td>-8.374564</td>\n",
       "      <td>-1</td>\n",
       "    </tr>\n",
       "    <tr>\n",
       "      <td>46</td>\n",
       "      <td>-3.094421</td>\n",
       "      <td>-9.240961</td>\n",
       "      <td>-1</td>\n",
       "    </tr>\n",
       "    <tr>\n",
       "      <td>47</td>\n",
       "      <td>6.596209</td>\n",
       "      <td>-4.328940</td>\n",
       "      <td>1</td>\n",
       "    </tr>\n",
       "    <tr>\n",
       "      <td>48</td>\n",
       "      <td>7.249011</td>\n",
       "      <td>-3.589133</td>\n",
       "      <td>1</td>\n",
       "    </tr>\n",
       "    <tr>\n",
       "      <td>49</td>\n",
       "      <td>-2.032852</td>\n",
       "      <td>-8.161588</td>\n",
       "      <td>-1</td>\n",
       "    </tr>\n",
       "  </tbody>\n",
       "</table>\n",
       "</div>"
      ],
      "text/plain": [
       "      pointx     pointy  labels\n",
       "0   7.127313  -4.439442       1\n",
       "1   6.688739  -2.448401       1\n",
       "2  -1.100479  -7.784368      -1\n",
       "3   3.993379  -4.904513       1\n",
       "4  -1.817162  -9.229099      -1\n",
       "5  -2.055219 -10.231412      -1\n",
       "6   4.203977  -3.611647       1\n",
       "7  -0.218046  -9.219627      -1\n",
       "8   5.193276  -6.388451       1\n",
       "9  -1.836821  -8.219521      -1\n",
       "10  7.542874  -5.352841       1\n",
       "11  4.889545  -3.389478       1\n",
       "12 -1.765586  -9.349430      -1\n",
       "13  5.225978  -5.550335       1\n",
       "14  6.648864  -4.462037       1\n",
       "15  8.094082  -4.806829       1\n",
       "16  6.329165  -5.321771       1\n",
       "17  5.806702  -5.144752       1\n",
       "18  5.673811  -3.339634       1\n",
       "19  7.208702  -6.041764       1\n",
       "20 -3.250146  -8.673048      -1\n",
       "21 -1.228564  -7.963173      -1\n",
       "22 -3.294461  -7.452700      -1\n",
       "23 -1.812946  -7.556407      -1\n",
       "24 -1.538091  -8.778281      -1\n",
       "25 -3.782881  -9.383032      -1\n",
       "26 -2.734738  -9.347780      -1\n",
       "27  0.560855  -8.379429      -1\n",
       "28 -0.741231  -7.872709      -1\n",
       "29 -1.789483  -8.621828      -1\n",
       "30  6.507538  -3.625618       1\n",
       "31  4.603029  -4.275634       1\n",
       "32 -1.265615  -8.612627      -1\n",
       "33 -0.721239  -8.456070      -1\n",
       "34  3.830244  -4.072720       1\n",
       "35 -3.341797  -9.473830      -1\n",
       "36  6.052970  -6.082342       1\n",
       "37 -2.914117  -9.033057      -1\n",
       "38  3.866500  -4.040198       1\n",
       "39  6.444924  -4.435506       1\n",
       "40 -1.814679 -10.055990      -1\n",
       "41 -1.767721  -9.423580      -1\n",
       "42  2.745653  -4.270406       1\n",
       "43  5.237303  -4.110951       1\n",
       "44  6.340723  -4.342600       1\n",
       "45 -2.306354  -8.374564      -1\n",
       "46 -3.094421  -9.240961      -1\n",
       "47  6.596209  -4.328940       1\n",
       "48  7.249011  -3.589133       1\n",
       "49 -2.032852  -8.161588      -1"
      ]
     },
     "execution_count": 17,
     "metadata": {},
     "output_type": "execute_result"
    }
   ],
   "source": [
    "df"
   ]
  },
  {
   "cell_type": "markdown",
   "metadata": {},
   "source": [
    "# First Approach :-"
   ]
  },
  {
   "cell_type": "markdown",
   "metadata": {},
   "source": [
    "# For line y=-4x+1 \"orange line\""
   ]
  },
  {
   "cell_type": "code",
   "execution_count": 18,
   "metadata": {},
   "outputs": [],
   "source": [
    "#for y=-4x+1\n",
    "#ax+by+c=0\n",
    "#4x+y+(-1)=0\n",
    "#w1x1+w2x2+b=0\n",
    "\n",
    "#w1=4\n",
    "#w2=1\n",
    "#b=-1"
   ]
  },
  {
   "cell_type": "code",
   "execution_count": 19,
   "metadata": {},
   "outputs": [
    {
     "name": "stdout",
     "output_type": "stream",
     "text": [
      "23.06981086205933\n",
      "23.306554561796297\n",
      "13.186284425179764\n",
      "10.069001984513946\n",
      "17.49774756734267\n",
      "19.45228804239108\n",
      "12.204261420636712\n",
      "11.091812042228877\n",
      "13.38465428528515\n",
      "16.566803545767556\n",
      "23.818655713578973\n",
      "15.168703622298068\n",
      "17.411775305605296\n",
      "14.353575399591831\n",
      "21.13341839786556\n",
      "26.569498420607353\n",
      "18.99489023906074\n",
      "17.082056242106358\n",
      "18.355611297293837\n",
      "21.793041773770803\n",
      "22.673631088308635\n",
      "13.87742757204329\n",
      "21.63054533623207\n",
      "15.80819259455103\n",
      "15.930643675282845\n",
      "25.514553839632043\n",
      "21.286733018065625\n",
      "7.136006952988037\n",
      "11.837633831017751\n",
      "16.77975884272854\n",
      "21.404532353650794\n",
      "13.136483080461671\n",
      "14.675088358052074\n",
      "12.341026860894488\n",
      "10.24825814412219\n",
      "23.84101711406359\n",
      "17.129539559203593\n",
      "21.689524135856352\n",
      "10.425800431635137\n",
      "20.344188946640923\n",
      "18.31470810193251\n",
      "17.49446347183333\n",
      "5.712207170929055\n",
      "15.8382600328342\n",
      "20.02029325619053\n",
      "18.599980387786157\n",
      "22.618644055042417\n",
      "21.05589680290017\n",
      "24.406912346250298\n",
      "17.292995521312484\n"
     ]
    }
   ],
   "source": [
    "b=-1\n",
    "for i in range(df.shape[0]):\n",
    "    cons=df['labels'][i]*((4*df['pointx'][i])+((1)*df['pointy'][i])+b)\n",
    "    print(cons)"
   ]
  },
  {
   "cell_type": "code",
   "execution_count": 20,
   "metadata": {},
   "outputs": [],
   "source": [
    "#(label)*wi.xi+b>=0  : this should satisfy for hard margin svm\n",
    "#as all the above values are >=0"
   ]
  },
  {
   "cell_type": "markdown",
   "metadata": {},
   "source": [
    "#### It proves that all the points are hard margin svm classified for the line y=-4x+1"
   ]
  },
  {
   "cell_type": "code",
   "execution_count": 21,
   "metadata": {},
   "outputs": [],
   "source": [
    "#d=2/magnitude of w"
   ]
  },
  {
   "cell_type": "code",
   "execution_count": 22,
   "metadata": {},
   "outputs": [],
   "source": [
    "d_for_orange_line=2/np.sqrt(4**2+1**2)"
   ]
  },
  {
   "cell_type": "code",
   "execution_count": 23,
   "metadata": {},
   "outputs": [
    {
     "name": "stdout",
     "output_type": "stream",
     "text": [
      "Therefore the value of d for orange line is 0.48507125007266594\n"
     ]
    }
   ],
   "source": [
    "print(f\"Therefore the value of d for orange line is {d_for_orange_line}\")"
   ]
  },
  {
   "cell_type": "markdown",
   "metadata": {},
   "source": [
    "# For line y=-5x+1 \"blue line\""
   ]
  },
  {
   "cell_type": "code",
   "execution_count": 24,
   "metadata": {},
   "outputs": [],
   "source": [
    "#for y=-5x+1\n",
    "#ax+by+c=0\n",
    "#5x+y+(-1)=0\n",
    "#w1x1+w2x2+b=0\n",
    "\n",
    "#w1=5\n",
    "#w2=1\n",
    "#b=-1"
   ]
  },
  {
   "cell_type": "code",
   "execution_count": 25,
   "metadata": {},
   "outputs": [
    {
     "name": "stdout",
     "output_type": "stream",
     "text": [
      "30.19712417799704\n",
      "29.99529353831131\n",
      "14.286763523380344\n",
      "14.06238065323695\n",
      "19.314909770842448\n",
      "21.507507056626086\n",
      "16.408238648492848\n",
      "11.309858287677446\n",
      "18.57793069196508\n",
      "18.4036241053654\n",
      "31.361529772903424\n",
      "20.058249068195785\n",
      "19.177361629100716\n",
      "19.579552923764304\n",
      "27.782282156749172\n",
      "34.66358019997736\n",
      "25.32405553397162\n",
      "22.888758385286096\n",
      "24.029422654521653\n",
      "29.001743290221064\n",
      "25.92377675574688\n",
      "15.105991278249231\n",
      "24.925006677351984\n",
      "17.621138907793323\n",
      "17.468734251517354\n",
      "29.29743436377911\n",
      "24.0214713817972\n",
      "6.575151531073185\n",
      "12.578865096350004\n",
      "18.569241525759743\n",
      "27.9120698835161\n",
      "17.739512406801744\n",
      "15.940703678457762\n",
      "13.062266004869034\n",
      "14.078502624410234\n",
      "27.182813919294375\n",
      "23.1825100405177\n",
      "24.603640949667863\n",
      "14.292300118606574\n",
      "26.789112715358048\n",
      "20.129387595296237\n",
      "19.2621843340652\n",
      "8.457860401633377\n",
      "21.075562861524908\n",
      "26.361016568607074\n",
      "20.906334602579392\n",
      "25.71306484482697\n",
      "27.652105962475815\n",
      "31.65592358972352\n",
      "19.32584747525504\n"
     ]
    }
   ],
   "source": [
    "b=-1\n",
    "for i in range(df.shape[0]):\n",
    "    cons=df['labels'][i]*((5*df['pointx'][i])+((1)*df['pointy'][i])+b)\n",
    "    print(cons)"
   ]
  },
  {
   "cell_type": "code",
   "execution_count": 26,
   "metadata": {},
   "outputs": [],
   "source": [
    "#(label)*wi.xi+b>=0  : this should satisfy for hard margin svm\n",
    "#as all the above values are >=0"
   ]
  },
  {
   "cell_type": "markdown",
   "metadata": {},
   "source": [
    "#### It proves that all the points are hard margin svm classified for the line y=-5x+1"
   ]
  },
  {
   "cell_type": "code",
   "execution_count": 27,
   "metadata": {},
   "outputs": [],
   "source": [
    "#d=2/magnitude of w"
   ]
  },
  {
   "cell_type": "code",
   "execution_count": 28,
   "metadata": {},
   "outputs": [],
   "source": [
    "d_for_blue_line=2/np.sqrt(5**2+1**2)"
   ]
  },
  {
   "cell_type": "code",
   "execution_count": 29,
   "metadata": {},
   "outputs": [
    {
     "name": "stdout",
     "output_type": "stream",
     "text": [
      "Therefore the value of d for blue line is 0.3922322702763681\n"
     ]
    }
   ],
   "source": [
    "print(f\"Therefore the value of d for blue line is {d_for_blue_line}\")"
   ]
  },
  {
   "cell_type": "markdown",
   "metadata": {},
   "source": [
    "# Predicting the best fit line"
   ]
  },
  {
   "cell_type": "code",
   "execution_count": 30,
   "metadata": {},
   "outputs": [
    {
     "name": "stdout",
     "output_type": "stream",
     "text": [
      "The best fit line is the orange line with d = 0.48507125007266594\n"
     ]
    }
   ],
   "source": [
    "if d_for_blue_line>d_for_orange_line:\n",
    "    print(f\"The best fit line is the blue line with d = {d_for_blue_line}\")\n",
    "else:\n",
    "    print(f\"The best fit line is the orange line with d = {d_for_orange_line}\")"
   ]
  },
  {
   "cell_type": "code",
   "execution_count": null,
   "metadata": {},
   "outputs": [],
   "source": []
  },
  {
   "cell_type": "code",
   "execution_count": null,
   "metadata": {},
   "outputs": [],
   "source": []
  },
  {
   "cell_type": "code",
   "execution_count": null,
   "metadata": {},
   "outputs": [],
   "source": []
  },
  {
   "cell_type": "code",
   "execution_count": null,
   "metadata": {},
   "outputs": [],
   "source": []
  },
  {
   "cell_type": "code",
   "execution_count": null,
   "metadata": {},
   "outputs": [],
   "source": []
  },
  {
   "cell_type": "markdown",
   "metadata": {},
   "source": [
    "# Second Approach (possible only in 2D) :-"
   ]
  },
  {
   "cell_type": "markdown",
   "metadata": {},
   "source": [
    "# For line y=-4x+1 \"orange line\""
   ]
  },
  {
   "cell_type": "code",
   "execution_count": 31,
   "metadata": {},
   "outputs": [],
   "source": [
    "value_d=[]\n",
    "\n",
    "for i in range(df.shape[0]):\n",
    "    d=abs(4*df['pointx'][i]+1*df['pointy'][i]+(-1))/(np.sqrt((4**2) + (1**2)))\n",
    "    value_d.append(d)\n",
    "    "
   ]
  },
  {
   "cell_type": "code",
   "execution_count": 32,
   "metadata": {},
   "outputs": [],
   "source": [
    "d_for_orange_line=2*np.min(value_d)"
   ]
  },
  {
   "cell_type": "code",
   "execution_count": 33,
   "metadata": {},
   "outputs": [
    {
     "name": "stdout",
     "output_type": "stream",
     "text": [
      "2.7708274730766034\n"
     ]
    }
   ],
   "source": [
    "print(d_for_orange_line)"
   ]
  },
  {
   "cell_type": "markdown",
   "metadata": {},
   "source": [
    "# For line y=-5x+1 \"blue line\""
   ]
  },
  {
   "cell_type": "code",
   "execution_count": 34,
   "metadata": {},
   "outputs": [],
   "source": [
    "value_d=[]\n",
    "\n",
    "for i in range(df.shape[0]):\n",
    "    d=abs(5*df['pointx'][i]+1*df['pointy'][i]+(-1))/(np.sqrt((5**2) + (1**2)))\n",
    "    value_d.append(d)\n",
    "  "
   ]
  },
  {
   "cell_type": "code",
   "execution_count": 35,
   "metadata": {},
   "outputs": [],
   "source": [
    "d_for_blue_line=2*np.min(value_d)"
   ]
  },
  {
   "cell_type": "code",
   "execution_count": 36,
   "metadata": {},
   "outputs": [
    {
     "name": "stdout",
     "output_type": "stream",
     "text": [
      "2.5789866124439733\n"
     ]
    }
   ],
   "source": [
    "print(d_for_blue_line)"
   ]
  },
  {
   "cell_type": "markdown",
   "metadata": {},
   "source": [
    "# Predicting the best fit line"
   ]
  },
  {
   "cell_type": "code",
   "execution_count": 37,
   "metadata": {},
   "outputs": [
    {
     "name": "stdout",
     "output_type": "stream",
     "text": [
      "The best fit line is the orange line with d = 2.7708274730766034\n"
     ]
    }
   ],
   "source": [
    "if d_for_blue_line>d_for_orange_line:\n",
    "    print(f\"The best fit line is the blue line with d = {d_for_blue_line}\")\n",
    "else:\n",
    "    print(f\"The best fit line is the orange line with d = {d_for_orange_line}\")"
   ]
  },
  {
   "cell_type": "code",
   "execution_count": null,
   "metadata": {},
   "outputs": [],
   "source": []
  }
 ],
 "metadata": {
  "colab": {
   "name": "SVM-Assignment-1.ipynb",
   "provenance": []
  },
  "kernelspec": {
   "display_name": "Python 3",
   "language": "python",
   "name": "python3"
  },
  "language_info": {
   "codemirror_mode": {
    "name": "ipython",
    "version": 3
   },
   "file_extension": ".py",
   "mimetype": "text/x-python",
   "name": "python",
   "nbconvert_exporter": "python",
   "pygments_lexer": "ipython3",
   "version": "3.7.4"
  }
 },
 "nbformat": 4,
 "nbformat_minor": 1
}
